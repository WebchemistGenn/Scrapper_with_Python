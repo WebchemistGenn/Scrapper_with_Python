{
 "cells": [
  {
   "cell_type": "code",
   "execution_count": 1,
   "id": "9d349021",
   "metadata": {},
   "outputs": [],
   "source": [
    "import re\n",
    "import requests\n",
    "from bs4 import BeautifulSoup"
   ]
  },
  {
   "cell_type": "markdown",
   "id": "6a855477",
   "metadata": {},
   "source": [
    "### HTTP\n",
    "- 1XX(정보): 요청을 받았으며 프로세스를 계속한다.\n",
    "- 2XX(성공): 요청을 성공적으로 받았으며 인식했고 수용하였다.\n",
    "- 3XX(리다이렉션): 요청 완료를 위해 추가 작업조치가 필요하다.\n",
    "- 4XX(클라이언트 오류): 요청의 문법이 잘못되었거나 요청을 처리할 수 없다.\n",
    "- 5XX(서버 오류): 서버가 명백히 유효한 요청에 대한 충족을 실패했다."
   ]
  },
  {
   "cell_type": "code",
   "execution_count": 14,
   "id": "c06dd74f",
   "metadata": {},
   "outputs": [
    {
     "data": {
      "text/plain": [
       "42"
      ]
     },
     "execution_count": 14,
     "metadata": {},
     "output_type": "execute_result"
    }
   ],
   "source": [
    "url = 'https://comment.daum.net/apis/v1/ui/single/main/@20190728165812603'\n",
    "\n",
    "headers = { \"authorization\": \"Bearer ....\" }\n",
    "\n",
    "res = requests.get(url, headers=headers)\n",
    "res.json()['post']['commentCount']"
   ]
  },
  {
   "cell_type": "code",
   "execution_count": null,
   "id": "643d1f9a",
   "metadata": {},
   "outputs": [],
   "source": [
    "# 세션을 저장하여 이후까지 이용해야 할때 다음과 같이 session을 생성해줍니다.\n",
    "s = requests.Session()\n",
    "\n",
    "# s.post()"
   ]
  },
  {
   "cell_type": "markdown",
   "id": "e4bd3002",
   "metadata": {},
   "source": [
    "### Selenim\n",
    "- 웹페이지 테스트 자동화용 모듈\n",
    "- 개발/테스트용 드라이버(웹브라우저)를 사용하여 실제 사용자가 사용하는 것처럼 동작\n",
    "- 실습전 확인사항\n",
    "    - selenium 모듈 설치\n",
    "    - [크롬 드라이버 다운로드](https://chromedriver.chromium.org/downloads) - 이때버전은 내 컴퓨터의 크롬버전과 같아야합니다."
   ]
  },
  {
   "cell_type": "code",
   "execution_count": 2,
   "id": "2c190b92",
   "metadata": {},
   "outputs": [],
   "source": [
    "import time\n",
    "from selenium import webdriver\n",
    "from selenium.webdriver.common.keys import Keys\n",
    "from selenium.webdriver.common.by import By\n",
    "from selenium.webdriver.support.ui import WebDriverWait\n",
    "from selenium.webdriver.support import expected_conditions as EC"
   ]
  },
  {
   "cell_type": "code",
   "execution_count": 8,
   "id": "bc6cc982",
   "metadata": {},
   "outputs": [],
   "source": [
    "# 간단한 예제\n",
    "chrome_driver = '/Users/webchemist/chromedriver'\n",
    "driver = webdriver.Chrome(chrome_driver)\n",
    "driver.get(\"https://www.python.org\")\n",
    "\n",
    "search = driver.find_element_by_id(\"id-search-field\")\n",
    "\n",
    "search.clear()\n",
    "time.sleep(3)\n",
    "\n",
    "search.send_keys(\"lambda\")\n",
    "time.sleep(3)\n",
    "\n",
    "search.send_keys(Keys.RETURN)\n",
    "time.sleep(3)\n",
    "\n",
    "driver.close()"
   ]
  },
  {
   "cell_type": "markdown",
   "id": "fb3d3ee8",
   "metadata": {},
   "source": [
    "### Selenium을 이용한 다음뉴스 웹사이트 크롤링"
   ]
  },
  {
   "cell_type": "code",
   "execution_count": 18,
   "id": "e266364b",
   "metadata": {},
   "outputs": [
    {
     "data": {
      "text/plain": [
       "'0'"
      ]
     },
     "execution_count": 18,
     "metadata": {},
     "output_type": "execute_result"
    }
   ],
   "source": [
    "chrome_driver = '/Users/webchemist/chromedriver'\n",
    "driver = webdriver.Chrome(chrome_driver)\n",
    "\n",
    "url = 'https://news.v.daum.net/v/20190728165812603'\n",
    "driver.get(url)\n",
    "\n",
    "src = driver.page_source\n",
    "soup = BeautifulSoup(src)\n",
    "\n",
    "driver.close()\n",
    "\n",
    "comment = soup.select_one('span.alex-count-area')\n",
    "comment.get_text()"
   ]
  },
  {
   "cell_type": "markdown",
   "id": "ad5572f6",
   "metadata": {},
   "source": [
    "### Selenium 필요한 데이터가 로딩 된 후 크롤링 하기\n",
    "- WebDriverWait 객체를 이용하여 해당 element가 로딩 되는 것을 대기\n",
    "- 실제로 해당 기능을 활용하여 거의 모든 사이트의 크롤링 가능\n",
    "- WebDriverWat(driver, 시간(초)).until(EC.presence_of_element_located((By.CSS_SELECTOR, 'CSS_RULE')))"
   ]
  },
  {
   "cell_type": "code",
   "execution_count": 21,
   "id": "4a842a7a",
   "metadata": {},
   "outputs": [
    {
     "data": {
      "text/plain": [
       "'42'"
      ]
     },
     "execution_count": 21,
     "metadata": {},
     "output_type": "execute_result"
    }
   ],
   "source": [
    "chrome_driver = '/Users/webchemist/chromedriver'\n",
    "driver = webdriver.Chrome(chrome_driver)\n",
    "\n",
    "url = 'https://news.v.daum.net/v/20190728165812603'\n",
    "driver.get(url)\n",
    "\n",
    "# 최대 10초간 기다리며, 해당 css가 로딩 완료가 되면 넘어간다!\n",
    "WebDriverWait(driver, 10).until(EC.presence_of_element_located((By.CSS_SELECTOR, 'em.num_count')))\n",
    "\n",
    "src = driver.page_source\n",
    "soup = BeautifulSoup(src)\n",
    "\n",
    "driver.close()\n",
    "\n",
    "comment = soup.select_one('em.num_count')\n",
    "comment.get_text()\n"
   ]
  }
 ],
 "metadata": {
  "kernelspec": {
   "display_name": "Python 3",
   "language": "python",
   "name": "python3"
  },
  "language_info": {
   "codemirror_mode": {
    "name": "ipython",
    "version": 3
   },
   "file_extension": ".py",
   "mimetype": "text/x-python",
   "name": "python",
   "nbconvert_exporter": "python",
   "pygments_lexer": "ipython3",
   "version": "3.8.8"
  }
 },
 "nbformat": 4,
 "nbformat_minor": 5
}
