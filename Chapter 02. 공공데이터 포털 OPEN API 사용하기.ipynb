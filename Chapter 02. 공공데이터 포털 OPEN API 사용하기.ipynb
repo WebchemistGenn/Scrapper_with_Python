{
 "cells": [
  {
   "cell_type": "markdown",
   "id": "a56626eb",
   "metadata": {},
   "source": [
    "### OPEN API사용하여 데이터 획득하기\n",
    "\n",
    "1. 공공데이터 포털 회원가입/로그인(https://www.data.go.kr/)\n",
    "2. API 사용 요청 / 키 발급\n",
    "3. API 문서확인\n",
    "4. API 테스트 및 개발"
   ]
  },
  {
   "cell_type": "code",
   "execution_count": 26,
   "id": "616e8c32",
   "metadata": {},
   "outputs": [],
   "source": [
    "import requests"
   ]
  },
  {
   "cell_type": "code",
   "execution_count": 36,
   "id": "ea460e8e",
   "metadata": {},
   "outputs": [],
   "source": [
    "serverKey = \"\"\n",
    "year=\"2021\"\n",
    "month=\"10\""
   ]
  },
  {
   "cell_type": "code",
   "execution_count": 37,
   "id": "2edb266d",
   "metadata": {},
   "outputs": [],
   "source": [
    "url=\"http://apis.data.go.kr/B090041/openapi/service/SpcdeInfoService/getRestDeInfo?_type=json&solYear={}&solMonth={}&serviceKey={}\".format(year, month, serverKey)"
   ]
  },
  {
   "cell_type": "code",
   "execution_count": 38,
   "id": "132aa244",
   "metadata": {},
   "outputs": [
    {
     "name": "stdout",
     "output_type": "stream",
     "text": [
      "{'item': [{'dateKind': '01', 'dateName': '개천절', 'isHoliday': 'Y', 'locdate': 20211003, 'seq': 1}, {'dateKind': '01', 'dateName': '대체공휴일', 'isHoliday': 'Y', 'locdate': 20211004, 'seq': 1}, {'dateKind': '01', 'dateName': '한글날', 'isHoliday': 'Y', 'locdate': 20211009, 'seq': 1}, {'dateKind': '01', 'dateName': '대체공휴일', 'isHoliday': 'Y', 'locdate': 20211011, 'seq': 1}]}\n"
     ]
    }
   ],
   "source": [
    "res = requests.get(url)\n",
    "\n",
    "data = res.json()\n",
    "print(data[\"response\"][\"body\"][\"items\"])"
   ]
  },
  {
   "cell_type": "code",
   "execution_count": null,
   "id": "38e173af",
   "metadata": {},
   "outputs": [],
   "source": []
  }
 ],
 "metadata": {
  "kernelspec": {
   "display_name": "Python 3",
   "language": "python",
   "name": "python3"
  }
 },
 "nbformat": 4,
 "nbformat_minor": 5
}
