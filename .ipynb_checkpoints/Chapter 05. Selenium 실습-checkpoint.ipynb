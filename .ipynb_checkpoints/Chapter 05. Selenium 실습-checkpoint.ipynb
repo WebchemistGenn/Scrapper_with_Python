{
 "cells": [
  {
   "cell_type": "markdown",
   "id": "c3044019",
   "metadata": {},
   "source": [
    "# 다음 뉴스 크롤링 실습"
   ]
  },
  {
   "cell_type": "code",
   "execution_count": 1,
   "id": "aa9cb59d",
   "metadata": {},
   "outputs": [],
   "source": [
    "import time\n",
    "import requests\n",
    "from bs4 import BeautifulSoup"
   ]
  },
  {
   "cell_type": "markdown",
   "id": "410ea65c",
   "metadata": {},
   "source": [
    "### 뉴스 제목 크롤링"
   ]
  },
  {
   "cell_type": "code",
   "execution_count": 8,
   "id": "2c647990",
   "metadata": {},
   "outputs": [],
   "source": [
    "def get_daum_news_title(news_id):\n",
    "    url = \"https://news.v.daum.net/v/{}\".format(news_id)\n",
    "    res = requests.get(url)\n",
    "    soup = BeautifulSoup(res.text)\n",
    "    title = soup.select_one('h3.tit_view')\n",
    "    if title:\n",
    "        return title.get_text().strip()\n",
    "    return \"\"\n",
    "    "
   ]
  },
  {
   "cell_type": "markdown",
   "id": "82a6ed81",
   "metadata": {},
   "source": [
    "### 뉴스 본문 크롤링"
   ]
  },
  {
   "cell_type": "code",
   "execution_count": 14,
   "id": "2becc59d",
   "metadata": {},
   "outputs": [],
   "source": [
    "def get_daum_news_content(news_id):\n",
    "    url = \"https://news.v.daum.net/v/{}\".format(news_id)\n",
    "    res = requests.get(url)\n",
    "    soup = BeautifulSoup(res.text)\n",
    "    \n",
    "    content = \"\"\n",
    "    for p in soup.select('div#harmonyContainer p'):\n",
    "        content += p.get_text().strip()\n",
    "    \n",
    "    return content    "
   ]
  },
  {
   "cell_type": "code",
   "execution_count": 15,
   "id": "beda93bc",
   "metadata": {},
   "outputs": [
    {
     "data": {
      "text/plain": [
       "'[아시아경제 이민우 기자] 일론 머스크 테슬라 최고경영자(CEO)가 자사 전기 자동차 모델에 넷플릭스와 유튜브 등 온라인동영상서비스(OTT)를 탑재할 것이라고 예고했다. 단순히 자율 주행 전기차가 단순히 주행을 위한 정보를 알려주는 것을 넘어 각종 영상 콘텐츠를 즐기는 공간으로도 확장하겠다는 전략으로 풀이된다.27일(현지시간) 더버지 등 주요 외신들에 따르면 머스크 CEO는 자신의 트위터를 통해 이 같은 계획을 밝혔다. 그는 \"자동차가 정차했을 때 넷플릭스와 유튜브를 감상할 수 있는 기능이 조만간 추가될 것\"이라며 \"편안한 좌석과 서라운드 사운드 오디오를 통해 영화관과 같은 느낌을 받을 수 있을 것\"이라고 강조했다.테슬라가 이처럼 콘텐츠 방면으로 확장하려 든 것은 이번이 처음이 아니다. 지난달 세계 최대 게임쇼 E3에서는 이미 운전자가 \\'폴아웃 쉘터\\'라는 게임을 할 수 있을 것이라고 발표한 바 있다. 이후에도 최근 게임업체 아타리사(社)의 자동차 경주 게임 ‘폴포지션’, 슈팅게임 ‘템페스트’, ‘미사일커맨드’ 등 고전 게임을 제공하기도 했다. 운전대로 게임을 조작하는 방식으로, 차가 주차돼 있을 경우에만 즐길 수 있다.이번 영상 콘텐츠는 주행 중에도 감상할 수 있도록 하는 방안을 고려하고 있다. 테슬라 측은 규제당국이 자율주행에 대해 완전히 승인하면 차량이 움직일 때에도 승객이 동영상을 즐길 수 있을 것이라고 설명했다.하지만 아직까지 자율주행차의 안전에 대한 우려는 완전히 걷혀지지 않은 상황이다. 지난 2017년 차량공유 서비스 우버의 자율주행 시범차량이 보행자와 충돌한 사고가 발생한 바 있다. 게다가 당시 시험 운전자는 디즈니의 동영상 스트리밍 서비스인 \\'훌루\\'를 이용하고 있던 것으로 밝혀졌다.이민우 기자 letzwin@asiae.co.kr<ⓒ경제를 보는 눈, 세계를 보는 창 아시아경제 무단전재 배포금지>'"
      ]
     },
     "execution_count": 15,
     "metadata": {},
     "output_type": "execute_result"
    }
   ],
   "source": [
    "get_daum_news_title(\"20190728165812603\")\n",
    "get_daum_news_content(\"20190728165812603\")"
   ]
  },
  {
   "cell_type": "code",
   "execution_count": 16,
   "id": "da589e9a",
   "metadata": {},
   "outputs": [
    {
     "data": {
      "text/plain": [
       "'[헤럴드경제=박지영 기자] “중국 동영상 앱 ‘틱톡’, 현금 살포도 안 먹히네!”중국의 동영상 플랫폼 ‘틱톡(TikTok)’ 앱 이용자가 두 달 연속 하락했다. 하반기 들어 이용자 확보를 위해 다양한 마케팅 전략을 펼치고 있지만, 장기 이용자 확보에는 역부족이라는 지적이 나온다.5일 데이터 분석 플랫폼 모바일인덱스에 따르면 지난 10월 틱톡의 월간활성이용자수(MAU)는 440만명으로, 전달(462만명) 대비 22만명 줄어들었다. 역대 최고치를 찍었던 8월(600만명)과 비교 하면 총 160만명이 이탈했다.2분기 MAU가 400만명 수준이었던 점을 고려하면 ‘선방’ 했지만, 하반기 들어 적극적인 마케팅 공세를 펼쳤던 터라 아쉽다는 평가가 나온다.틱톡은 지난 8월 5~12일 일주일 간, 지인 추천 이벤트 지급액을 최대 25만 1000원에서 40만원으로 크게 올렸다. 만 19세 이상 신규 회원 1명 가입 시 1만 2000원을 지급하고, 신규 회원이 매일 10분 이상 영상을 시청하면 최대 6만8000원을 추가 제공했다. 그 결과 8월 MAU가 600만명으로 ‘수직 상승’했지만, 장기 이용자 확보로 이어지지는 못했다.9월에는 “그냥 너답게 즐기는 거야”라는 슬로건의 마케팅 캠페인을 시작했다. 송민호, 릴체리 등 MZ세대 인기 연예인을 내세우면서도, 전연령층이 즐길 수 있는 앱이라는 ‘공감대’를 강조했다. 광고 영상은 송민호와 노인이 틱톡을 함께 시청하는 모습으로 시작한다.틱톡은 글로벌 이용자 수가 10억 명이 넘는 인기 동영상 플랫폼이다. 15초~1분 이내 짧은 동영상으로 ‘숏폼’이라는 새로운 유행을 만들어냈다. 틱톡의 무서운 추격에 유튜브와 인스타그램이 각각 ‘유튜브 쇼츠’, ‘인스타그램 릴스’ 등 유사한 형식을 도입했다.하지만 국내에서는 반중 정서, 개인 정보 유출 우려 등 넘어야 할 산이 많다. 이용자 층이 10~20대에 한정돼 확장성이 부족하다는 점도 문제다. 특히 개인 정보 유출 가능성에 대한 거부감이 크다. 틱톡은 한때 개인정보 유출 논란으로 누리꾼들로부터 ‘꼭 지워야 할 중국 애플리케이션(앱)’의 대표 주자로 꼽히기도 했다. 틱톡은 한국 사용자의 데이터는 중국이 아니라 미국에 저장되며, 싱가포르에서 백업을 한다고 설명한다.다만, 지지부진한 이용자 증가세와 달리 ‘충성 사용자’는 늘었다는 분석도 있다. 앱 분석업체 와이즈앱에 따르면 지난 9월 한국인의 한달 틱톡 사용 시간은 46억분으로, 전년 동기(28억분) 대비 64.3% 증가했다. 같은 기간 MAU가 377만명에서 462만명으로 22% 증가한 것보다 빠른 속도다(모바일 인덱스 기준).park.jiyeong@heraldcorp.comⓒ 헤럴드경제 & heraldbiz.com, 무단 전재 및 재배포 금지'"
      ]
     },
     "execution_count": 16,
     "metadata": {},
     "output_type": "execute_result"
    }
   ],
   "source": [
    "get_daum_news_title(\"20211106144255316\")\n",
    "get_daum_news_content(\"20211106144255316\")"
   ]
  },
  {
   "cell_type": "code",
   "execution_count": null,
   "id": "9f28dff4",
   "metadata": {},
   "outputs": [],
   "source": []
  }
 ],
 "metadata": {
  "kernelspec": {
   "display_name": "Python 3",
   "language": "python",
   "name": "python3"
  },
  "language_info": {
   "codemirror_mode": {
    "name": "ipython",
    "version": 3
   },
   "file_extension": ".py",
   "mimetype": "text/x-python",
   "name": "python",
   "nbconvert_exporter": "python",
   "pygments_lexer": "ipython3",
   "version": "3.8.8"
  }
 },
 "nbformat": 4,
 "nbformat_minor": 5
}
